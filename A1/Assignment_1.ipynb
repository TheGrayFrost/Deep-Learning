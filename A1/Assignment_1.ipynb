{
 "cells": [
  {
   "cell_type": "code",
   "execution_count": 1,
   "metadata": {
    "collapsed": true
   },
   "outputs": [],
   "source": [
    "'''\n",
    "Assignment 1: Linear Regression using Numpy (No deep learning/ automatic differentiation libraries are allowed)\n",
    "\n",
    "\n",
    "Use Python2.7 environment\n",
    "Roll No:\n",
    "Name:\n",
    "\n",
    "'''\n",
    "\n",
    "import numpy as np\n",
    "import matplotlib.pyplot as plt\n",
    "%matplotlib inline\n",
    "\n",
    "# Fix seed for reproducibility\n",
    "np.random.seed(100)"
   ]
  },
  {
   "cell_type": "code",
   "execution_count": 4,
   "metadata": {},
   "outputs": [
    {
     "data": {
      "image/png": "[encoded data removed]",
      "text/plain": [
       "<matplotlib.figure.Figure at 0x109aafc10>"
      ]
     },
     "metadata": {},
     "output_type": "display_data"
    }
   ],
   "source": [
    "def generate_dataset():\n",
    "    '''\n",
    "    Function to generate the dataset for our problem\n",
    "    Args:\n",
    "        None\n",
    "    Return:\n",
    "        X: \n",
    "    '''\n",
    "    N = 600\n",
    "    X = np.random.randint(100, size=N)\n",
    "    e = np.random.normal(0., 12., N)\n",
    "    y = 10*X + e #Note the use of broadcasting here\n",
    "    \n",
    "    return X, y\n",
    "\n",
    "X, y = generate_dataset()\n",
    "# Now lets visualize our data\n",
    "plt.plot(X, y, 'bo')\n",
    "plt.show()\n",
    "\n",
    "# get N  ------> ? \n",
    "N = 0#fill in these\n",
    "\n",
    "# shuffle the dataset randomly\n",
    "# X, y contains the data after shuffling randomly X and y\n",
    "X, y = [], [] # ?\n",
    "\n",
    "# Created train and test set\n",
    "training_size = int(0.8*N)\n",
    "\n",
    "X_train = X[:training_size]\n",
    "y_train = y[:training_size]\n",
    "X_test = X[training_size:]\n",
    "y_test = y[training_size:]\n"
   ]
  },
  {
   "cell_type": "code",
   "execution_count": 5,
   "metadata": {},
   "outputs": [
    {
     "ename": "SyntaxError",
     "evalue": "invalid syntax (<ipython-input-5-5668cd4747ed>, line 28)",
     "output_type": "error",
     "traceback": [
      "\u001b[0;36m  File \u001b[0;32m\"<ipython-input-5-5668cd4747ed>\"\u001b[0;36m, line \u001b[0;32m28\u001b[0m\n\u001b[0;31m    w_grad = # ? Compute derivate of loss wrt w\u001b[0m\n\u001b[0m                                                ^\u001b[0m\n\u001b[0;31mSyntaxError\u001b[0m\u001b[0;31m:\u001b[0m invalid syntax\n"
     ]
    }
   ],
   "source": [
    "class LinearRegression(object):\n",
    "    def __init__(self):\n",
    "        #Initialize all parameters\n",
    "        self.w = #? Sample from a uniform distribution between -1 and 1\n",
    "        self.b = #? Sample from a uniform distribution between -1 and 1\n",
    "    \n",
    "    def forward(self, x):\n",
    "        '''\n",
    "            Do a forward pass of the classifier:\n",
    "            Args:\n",
    "                x: Input X value\n",
    "            Return:\n",
    "                y: y = wx + b\n",
    "        '''\n",
    "        # Complete this function\n",
    "        raise NotImplementedError\n",
    "        \n",
    "    \n",
    "    def backward(self, x, ypred, y_train, lr):\n",
    "        '''\n",
    "            Computes all gradients and updates the parameters w and b\n",
    "            Args:\n",
    "                x : x\n",
    "                ypred: y=wx+b\n",
    "                y_train = ground truth values\n",
    "                lr = learning rate\n",
    "        '''\n",
    "        w_grad = # ? Compute derivate of loss wrt w \n",
    "        b_grad = # ? Compute derivate of loss wrt w\n",
    "        self.w = self.w - lr*w_grad # Updating w\n",
    "        self.b = self.b - lr*b_grad # Updating b\n",
    "\n",
    "def MSELoss(y, ypred):\n",
    "    '''\n",
    "        Args:\n",
    "            y: ground truth labels\n",
    "            ypred: predicted labels\n",
    "        Return:\n",
    "            Mean squared error loss\n",
    "    '''\n",
    "    # Complete this function\n",
    "    raise NotImplementedError\n",
    "        \n",
    "\n",
    "print 'Starting Training with Gradient Descent'\n",
    "lreg = LinearRegression()\n",
    "epochs = 10000\n",
    "learning_rate = 0.00001\n",
    "\n",
    "loss_history = []\n",
    "epoch_history = []\n",
    "\n",
    "# Gradient Descent\n",
    "for e in range(epochs):\n",
    "    ypred = lreg.forward(X_train)\n",
    "    loss = MSELoss(y_train, ypred)\n",
    "    if e==0 or (e+1)%1000==0:\n",
    "        loss_history.append(loss)\n",
    "        epoch_history.append(e+1)\n",
    "    \n",
    "    lreg.backward(X_train, ypred, y_train, learning_rate)\n",
    "\n",
    "print 'Loss fuction decrease after ' + str(epochs) + ' epochs of training'\n",
    "\n",
    "#Plot the decrease in loss with epoch\n",
    "plt.plot(epoch_history, loss_history)\n",
    "plt.show()\n",
    "\n"
   ]
  },
  {
   "cell_type": "code",
   "execution_count": 6,
   "metadata": {},
   "outputs": [
    {
     "ename": "SyntaxError",
     "evalue": "invalid syntax (<ipython-input-6-29da5f54db7b>, line 3)",
     "output_type": "error",
     "traceback": [
      "\u001b[0;36m  File \u001b[0;32m\"<ipython-input-6-29da5f54db7b>\"\u001b[0;36m, line \u001b[0;32m3\u001b[0m\n\u001b[0;31m    ypred =  # find predictions on test set ?\u001b[0m\n\u001b[0m                                             ^\u001b[0m\n\u001b[0;31mSyntaxError\u001b[0m\u001b[0;31m:\u001b[0m invalid syntax\n"
     ]
    }
   ],
   "source": [
    "print 'Final Training loss:' + str()  # Print training loss ?\n",
    "print 'Starting to test'\n",
    "ypred =  # find predictions on test set ?\n",
    "loss = # compute loss on test set ?\n",
    "print 'Final test loss: ' + str(loss)"
   ]
  },
  {
   "cell_type": "code",
   "execution_count": null,
   "metadata": {
    "collapsed": true
   },
   "outputs": [],
   "source": [
    "print 'Visualizing learnt function on test data'\n",
    "\n",
    "x_ = np.arange(100)\n",
    "y_ = lreg.w*x_ + lreg.b\n",
    "\n",
    "plt.plot(x_, y_, 'r-', linewidth=2.0)\n",
    "plt.plot(X_test, y_test, 'bo')\n",
    "plt.show()"
   ]
  }
 ],
 "metadata": {
  "kernelspec": {
   "display_name": "Python 2",
   "language": "python",
   "name": "python2"
  },
  "language_info": {
   "codemirror_mode": {
    "name": "ipython",
    "version": 2
   },
   "file_extension": ".py",
   "mimetype": "text/x-python",
   "name": "python",
   "nbconvert_exporter": "python",
   "pygments_lexer": "ipython2",
   "version": "2.7.14"
  }
 },
 "nbformat": 4,
 "nbformat_minor": 2
}
